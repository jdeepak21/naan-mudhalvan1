{
  "metadata": {
    "kernelspec": {
      "name": "python",
      "display_name": "Python (Pyodide)",
      "language": "python"
    },
    "language_info": {
      "codemirror_mode": {
        "name": "python",
        "version": 3
      },
      "file_extension": ".py",
      "mimetype": "text/x-python",
      "name": "python",
      "nbconvert_exporter": "python",
      "pygments_lexer": "ipython3",
      "version": "3.8"
    }
  },
  "nbformat_minor": 5,
  "nbformat": 4,
  "cells": [
    {
      "id": "a9f03c68-0d77-4313-954a-17c64c76fa93",
      "cell_type": "code",
      "source": "# Sample product catalog with categories\nproducts = {\n    \"Running Shoes\": \"fitness\",\n    \"Yoga Mat\": \"fitness\",\n    \"Protein Powder\": \"fitness\",\n    \"Smart Watch\": \"fitness\",\n    \"Fitness Tracker\": \"fitness\",\n    \"Coffee Maker\": \"kitchen\",\n    \"Espresso Machine\": \"kitchen\",\n    \"French Press\": \"kitchen\",\n    \"Coffee Grinds\": \"kitchen\",\n    \"Blender\": \"kitchen\",\n    \"Air Fryer\": \"kitchen\",\n    \"Running Socks\": \"fitness\",\n    \"Vacation Pack\": \"fitness\",\n    \"Gift Card\": \"general\"\n}\n\n# Sample customer data\ncustomers = [\n    {\n        \"name\": \"Alice\",\n        \"purchase_history\": [\"Running Shoes\"],\n        \"interests\": [\"fitness\", \"running\"],\n        \"wishlist\": [\"Smart Watch\", \"Fitness Tracker\"]\n    },\n    {\n        \"name\": \"Bob\",\n        \"purchase_history\": [\"Coffee Maker\"],\n        \"interests\": [\"coffee\", \"kitchen\"],\n        \"wishlist\": [\"Espresso Machine\"]\n    }\n]\n\ndef recommend_products(customer, products, max_recommendations=5):\n    recommendations = set()\n    already_owned = set(customer.get(\"purchase_history\", []))\n    wishlist = customer.get(\"wishlist\", [])\n    interests = set(customer.get(\"interests\", []))\n\n    # 1. Add from wishlist (if not already purchased)\n    for item in wishlist:\n        if item in products and item not in already_owned:\n            recommendations.add(item)\n            if len(recommendations) >= max_recommendations:\n                return list(recommendations)\n\n    # 2. Recommend by interest category\n    for product, category in products.items():\n        if category in interests and product not in already_owned and product not in recommendations:\n            recommendations.add(product)\n            if len(recommendations) >= max_recommendations:\n                return list(recommendations)\n\n    # 3. Add general category items if space remains\n    for product, category in products.items():\n        if category == \"general\" and product not in already_owned and product not in recommendations:\n            recommendations.add(product)\n            if len(recommendations) >= max_recommendations:\n                break\n\n    return list(recommendations)\n\n# Example usage\nfor customer in customers:\n    recs = recommend_products(customer, products)\n    print(f\"Recommendations for {customer['name']}: {recs}\")\n",
      "metadata": {
        "trusted": true
      },
      "outputs": [
        {
          "name": "stdout",
          "output_type": "stream",
          "text": "Recommendations for Alice: ['Yoga Mat', 'Fitness Tracker', 'Running Socks', 'Smart Watch', 'Protein Powder']\nRecommendations for Bob: ['Coffee Grinds', 'Espresso Machine', 'Air Fryer', 'French Press', 'Blender']\n"
        }
      ],
      "execution_count": 1
    },
    {
      "id": "15541b7d-dcef-403e-bd30-f8032509ffff",
      "cell_type": "code",
      "source": "",
      "metadata": {
        "trusted": true
      },
      "outputs": [],
      "execution_count": null
    }
  ]
}